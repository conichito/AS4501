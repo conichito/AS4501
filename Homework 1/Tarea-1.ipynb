{
 "cells": [
  {
   "cell_type": "markdown",
   "id": "6a295dbd",
   "metadata": {},
   "source": [
    "# Tarea 1 AS4501-1\n",
    "\n",
    "Profesor de catedra: Francisco Förster\n",
    "\n",
    "Autor: Álvaro Cáceres"
   ]
  },
  {
   "cell_type": "markdown",
   "id": "73fe7ab1",
   "metadata": {},
   "source": [
    "## Problem 1\n",
    "proposito blablabla"
   ]
  },
  {
   "cell_type": "markdown",
   "id": "5028bf8b",
   "metadata": {},
   "source": [
    "The file `fundamental-plane.csv` precisely contains data about these parameters originally compiled by Djorgovski & Davis in 1987. Moving forward in this problem we will be working with this data."
   ]
  }
 ],
 "metadata": {
  "kernelspec": {
   "display_name": "astroinf_env",
   "language": "python",
   "name": "python3"
  },
  "language_info": {
   "name": "python",
   "version": "3.12.3"
  }
 },
 "nbformat": 4,
 "nbformat_minor": 5
}
