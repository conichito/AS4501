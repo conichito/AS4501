{
 "cells": [
  {
   "cell_type": "markdown",
   "id": "e5bb7ede",
   "metadata": {},
   "source": [
    "# Homework 2 AS4501-1\n",
    "\n",
    "Course Instructor: Francisco Förster\n",
    "\n",
    "Author: Álvaro Cáceres"
   ]
  }
 ],
 "metadata": {
  "language_info": {
   "name": "python"
  }
 },
 "nbformat": 4,
 "nbformat_minor": 5
}
